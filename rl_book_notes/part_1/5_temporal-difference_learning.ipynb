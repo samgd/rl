{
 "cells": [
  {
   "cell_type": "code",
   "execution_count": 212,
   "metadata": {},
   "outputs": [],
   "source": [
    "import copy\n",
    "import enum\n",
    "from typing import Callable\n",
    "from typing import Mapping\n",
    "from typing import Optional\n",
    "from typing import Sequence\n",
    "from typing import Tuple\n",
    "from typing import TypeVar\n",
    "\n",
    "import graphviz\n",
    "import matplotlib.pyplot as plt\n",
    "import torch\n",
    "import tqdm"
   ]
  },
  {
   "cell_type": "markdown",
   "metadata": {},
   "source": [
    "# Temporal-Difference Learning\n",
    "\n",
    "## <p style=\"color:red\">Text content copied near verbatim from: <a href=\"http://incompleteideas.net/book/the-book-2nd.html\">Sutton and Barto</a>. Code is my own unless otherwise stated.</p>"
   ]
  },
  {
   "cell_type": "markdown",
   "metadata": {},
   "source": [
    "## Key Concepts\n",
    "\n",
    "- TD relation to Monte Carlo and DP methods."
   ]
  },
  {
   "cell_type": "markdown",
   "metadata": {},
   "source": [
    "## Definitions\n",
    "\n",
    "**TD(0) / _n-step_ TD**: \n",
    "\n",
    "**TD error**:\n",
    "\n",
    "**Markov Reward Process**:"
   ]
  },
  {
   "cell_type": "markdown",
   "metadata": {},
   "source": [
    "## Notation\n",
    "\n",
    "TODO"
   ]
  },
  {
   "cell_type": "markdown",
   "metadata": {},
   "source": [
    "## Introduction\n",
    "\n",
    "Temporal-difference (TD) learning is a combination of Monte Carlo ideas and dynamic programming (DP) ideas.\n",
    "\n",
    "Like Monte Carlo methods, TD methods can directly learn from raw experience without a model of the environment's dynamics.\n",
    "\n",
    "Like DP, TD methods update estimates based in part on other learned estimates, without waiting for a final outcome (they _bootstrap_).\n",
    "\n",
    "DP, TD, and Monte Carlo methods all use some form of generalized policy iteration (GPI) to solve the control problem. The differences in the methods are primarily due to differences in their approaches to the prediction problem."
   ]
  },
  {
   "cell_type": "markdown",
   "metadata": {},
   "source": [
    "## TD Prediction\n",
    "\n",
    "Both TD and Monte Carlo methods use experience to solve the prediction problem. Given some experience following a policy $\\pi$, both methods update their estimate $V$ of $v_\\pi$ for the nonterminal states $S_t$ occurring in that experience. \n",
    "\n",
    "---\n",
    "\n",
    "Monte Carlo methods wait until the return following the visit is known, then use that return as a target for $V(S_t)$. A simple every-visit Monte Carlo method suitable for nonstationary environments is the _constant-$\\alpha$ MC_:\n",
    "\n",
    "\\begin{equation}\n",
    "    V(S_t) \\leftarrow V(S_t) + \\alpha \\left[ G_t - V(S_t) \\right]\n",
    "\\end{equation}\n",
    "\n",
    "where $G_t$ is the actual return following time $t$ and $\\alpha$ is a constant step-size parameter.\n",
    "\n",
    "Monte Carlo methods must wait until the end of the episode to determine the increment to $V(S_t)$ (only then is $G_t$ known).\n",
    "\n",
    "---\n",
    "\n",
    "TD methods only need to wait until the next time step to determine the increment. At time $t + 1$ they immediately form a target and make a useful update using the observed reward $R_{t + 1}$ and the estimate $V(S_{t + 1})$. The simplest TD method makes the update\n",
    "\n",
    "\\begin{equation}\n",
    "    V(S_t) \\leftarrow V(S_t) + \\alpha \\left[ R_{t + 1} + \\gamma V(S_{t + 1}) - V(S_t) \\right]\n",
    "\\end{equation}\n",
    "\n",
    "immediately on transition to $S_{t + 1}$ and receiving $R_{t + 1}$. \n",
    "\n",
    "---\n",
    "\n",
    "In effect, the target for the Monte Carlo update is $G_t$ whereas the target for the TD update is $R_{t + 1} + \\gamma V(S_{t + 1})$. \n",
    "\n",
    "This TD method is called $TD(0)$ or _one-step_ TD because it is a special case of the TD($\\lambda$) and _n-step_ TD methods developed in Chapters 12 and 7. "
   ]
  },
  {
   "cell_type": "code",
   "execution_count": 50,
   "metadata": {},
   "outputs": [],
   "source": [
    "StateT = TypeVar(\"StateT\")\n",
    "ActionT = TypeVar(\"ActionT\")\n",
    "RewardT = TypeVar(\"RewardT\", int, float)\n",
    "\n",
    "TraceT = Sequence[Tuple[StateT, ActionT, RewardT]]"
   ]
  },
  {
   "cell_type": "code",
   "execution_count": 206,
   "metadata": {},
   "outputs": [],
   "source": [
    "def tabular_td0(\n",
    "    policy: Mapping[StateT, Mapping[ActionT, float]],\n",
    "    init_state: Callable[[], StateT],\n",
    "    is_terminal: Mapping[StateT, bool],\n",
    "    simulate: Callable[[StateT, ActionT], Tuple[StateT, RewardT]],\n",
    "    n_episode: int,\n",
    "    alpha: float = 0.1,\n",
    "    gamma: float = 1.0,\n",
    "    init_fn: Optional[Callable[[StateT], float]] = None\n",
    ") -> None:\n",
    "    state_values = {}\n",
    "    \n",
    "    for state in policy.keys():\n",
    "        state_values[state] = 0 if init_fn is None else init_fn(state) \n",
    "        \n",
    "    for _ in tqdm.trange(n_episode):\n",
    "        state = init_state()\n",
    "        \n",
    "        while not is_terminal[state]:\n",
    "            action = random.choices(\n",
    "                population=list(policy[state].keys()), \n",
    "                weights=policy[state].values()\n",
    "            )[0]   # random.choices returns a 1-element list\n",
    "            next_state, reward = simulate(state, action)\n",
    "\n",
    "            state_values[state] += alpha*(reward + gamma*state_values[next_state] - state_values[state])\n",
    "            \n",
    "            state = next_state\n",
    "            \n",
    "    return state_values"
   ]
  },
  {
   "cell_type": "markdown",
   "metadata": {},
   "source": [
    "---\n",
    "\n",
    "Confirming this works on the simple grid-world environment from Example 4.1 in Chapter 4:"
   ]
  },
  {
   "cell_type": "code",
   "execution_count": 107,
   "metadata": {},
   "outputs": [],
   "source": [
    "gw_states: Sequence[int] = list(range(4*4))   # 4x4 grid, states numbered left to right top to bottom \n",
    "\n",
    "    \n",
    "class GWAction(enum.Enum):\n",
    "    UP    = enum.auto()\n",
    "    DOWN  = enum.auto()\n",
    "    RIGHT = enum.auto()\n",
    "    LEFT  = enum.auto()\n",
    "\n",
    "    \n",
    "def gw_init_state() -> int:\n",
    "    return random.choice(gw_states)\n",
    "\n",
    "\n",
    "gw_is_terminal: Mapping[int, bool] = {\n",
    "    state: state == 0 or state == 15\n",
    "    for state in gw_states\n",
    "}\n",
    "\n",
    "\n",
    "def gw_simulate(state: int, action: GWAction) -> Tuple[int, float]:\n",
    "    \"\"\"\n",
    "        \n",
    "    \"\"\"\n",
    "    if action == GWAction.LEFT:\n",
    "        if state % 4 == 0:\n",
    "            #  unable to move further left\n",
    "            return state, -1\n",
    "        return state - 1, -1\n",
    "    \n",
    "    if action == GWAction.RIGHT:\n",
    "        if (state + 1) % 4 == 0:\n",
    "            # unable to move further right\n",
    "            return state, -1\n",
    "        return state + 1, -1\n",
    "    \n",
    "    if action == GWAction.UP:\n",
    "        if state < 4:\n",
    "            return state, -1\n",
    "        return state - 4, -1\n",
    "    \n",
    "    if action == GWAction.DOWN:\n",
    "        if state > 11:\n",
    "            return state, -1\n",
    "        return (state + 4) % 15, -1 \n",
    "\n",
    "    raise ValueError(state, action)"
   ]
  },
  {
   "cell_type": "code",
   "execution_count": 108,
   "metadata": {},
   "outputs": [],
   "source": [
    "gw_equiprob_policy = {}\n",
    "for state in gw_states:\n",
    "    gw_equiprob_policy[state] = {}\n",
    "    for action in GWAction:\n",
    "        gw_equiprob_policy[state][action] = 1.0 / len(GWAction)"
   ]
  },
  {
   "cell_type": "code",
   "execution_count": 124,
   "metadata": {},
   "outputs": [
    {
     "name": "stderr",
     "output_type": "stream",
     "text": [
      "100%|██████████| 1000000/1000000 [00:45<00:00, 22136.10it/s]\n"
     ]
    }
   ],
   "source": [
    "state_values = tabular_td0(\n",
    "    policy=gw_equiprob_policy,\n",
    "    init_state=gw_init_state,\n",
    "    is_terminal=gw_is_terminal,\n",
    "    simulate=gw_simulate,\n",
    "    n_episode=int(1e6),\n",
    "    alpha=0.0001,\n",
    "    gamma=1.0\n",
    ")"
   ]
  },
  {
   "cell_type": "code",
   "execution_count": 125,
   "metadata": {},
   "outputs": [
    {
     "name": "stdout",
     "output_type": "stream",
     "text": [
      "  0.000 -14.090 -20.001 -21.981 \n",
      "-13.972 -18.012 -19.994 -19.978 \n",
      "-19.946 -19.995 -17.980 -14.001 \n",
      "-21.984 -20.044 -14.042   0.000 \n"
     ]
    }
   ],
   "source": [
    "for i in range(4):\n",
    "    for j in range(4):\n",
    "        print(f\"{state_values[i*4 + j]: 7.3f}\", end=' ')\n",
    "    print()"
   ]
  },
  {
   "cell_type": "markdown",
   "metadata": {},
   "source": [
    "Recall that the actual state-value function for this problem is:\n",
    "\n",
    "```\n",
    "| 0.0 | -14 | -20 | -22 |\n",
    "| -14 | -18 | -20 | -20 |\n",
    "| -20 | -20 | -18 | -14 |\n",
    "| -22 | -20 | -14 | 0.0 |\n",
    "```\n",
    "\n",
    "so we see that the method works!\n",
    "\n",
    "Notice that $\\alpha$ must be small for the computed values to get close to their true value.\n",
    "\n",
    "---"
   ]
  },
  {
   "cell_type": "markdown",
   "metadata": {},
   "source": [
    "TD(0) bases its update in part on an existing estimate so it is a _bootstrapping_ method like DP. We know from Chapter 3 that:\n",
    "\n",
    "\\begin{align}\n",
    "    v_\\pi(s) &\\doteq \\mathbb{E}_\\pi \\left[ G_t | S_t = s \\right] \\\\\n",
    "             &= \\mathbb{E}_\\pi \\left[ R_{t + 1} + \\gamma G_{t + 1} | S_t = s \\right] \\\\\n",
    "             &= \\mathbb{E}_\\pi \\left[ R_{t + 1} + \\gamma v_\\pi(S_{t + 1}) | S_t = s \\right]\n",
    "\\end{align}"
   ]
  },
  {
   "cell_type": "markdown",
   "metadata": {},
   "source": [
    "Monte Carlo methods use an estimate of $\\mathbb{E}_\\pi[G_t | S_t = s]$ as the target. It is an estimate as the expected value is not known; a sample return is used in place of the real expected return.\n",
    "\n",
    "DP methods use an estimate of $\\mathbb{E}_\\pi[R_{t + 1} + \\gamma v_\\pi(S_{t + 1}) | S_t = s]$ as the target. It is an estimate not because of the expected values, which are assumed to be completely provided by a model of the environment, but because $v_\\pi(S_{t + 1})$ is not known and the current estimate $V(S_{t + 1})$ is used instead.\n",
    "\n",
    "The TD target is an estimate for both reasons:\n",
    "\n",
    "1. It samples the expected values.\n",
    "2. It uses the current estimate $V$ instead of the true $v_\\pi$.\n",
    "\n",
    "**TD methods combine the sampling of Monte Carlo with the bootstrapping of DP.**\n",
    "\n",
    "---\n",
    "\n",
    "Note that in the update rule for TD the quantity in brackets, $\\left[ R_{t + 1} + \\gamma V(S_{t + 1}) - V(S_t) \\right]$, is a sort of error measuring the difference between the estimated value of $S_t$ and the better estimate $R_{t + 1} + \\gamma V(S_{t + 1})$. This is called the **TD error** and arises in various forms throughout reinforcement learning:\n",
    "\n",
    "\\begin{equation}\n",
    "    \\delta_t \\doteq R_{t + 1} + \\gamma V(S_{t + 1}) - V(S_t)\n",
    "\\end{equation}\n",
    "\n",
    "This quantity depends on the next state and reward so is not available until one time step later. If the array V does not change during the episode (e.g. Monte Carlo methods) then the Monte Carlo error can be written as a sum of TD errors:\n",
    "\n",
    "\\begin{align}\n",
    "    G_t - V(S_t) &= R_{t + 1} + \\gamma G_{t + 1} - V(S_t) \\\\\n",
    "                 &= R_{t + 1} + \\gamma G_{t + 1} - V(S_t) + \\gamma V(S_{t + 1}) - \\gamma V(S_{t + 1}) \\\\\n",
    "                 &= \\delta_t + \\gamma \\delta_{t + 1} + \\gamma^2(G_{t + 2} - V(S_{t + 2})) \\\\\n",
    "                 &= \\delta_t + \\gamma \\delta_{t + 1} + \\gamma^2\\delta_{t + 2} + \\dots + \\gamma^{T - t - 1} \\delta_{T - 1} + \\gamma^{T - t}(0 - 0) \\\\\n",
    "                 &= \\sum_{k = t}^{T - 1} \\gamma^{k - t} \\delta_k\n",
    "\\end{align}\n",
    "\n",
    "---"
   ]
  },
  {
   "cell_type": "markdown",
   "metadata": {},
   "source": [
    "Exercise 6.1: If V changes during the episode then the above only holds approximately; what would the difference be between the two sides? Let $V_t$ denote the array of state values used at time $t$ in the TD error and in the TD update. Redo the derivation above to determine the additional amount that must be added to the sum of TD errors in order to equal the Monte Carlo error.\n",
    "\n",
    "\\begin{align}\n",
    "    V_{t + 1}(S_t) &= V_t(S_t) + \\alpha [R_{t + 1} + \\gamma V_t(S_{t + 1}) - V_t(S_t)] \\\\\n",
    "                   &= V_t(S_t) + \\alpha [R_{t + 1} + \\gamma V_t(S_{t + 1}) - V_t(S_t)] \\\\\n",
    "                   &= V_t(S_t) + \\alpha \\delta_t \\\\\n",
    "\\end{align}\n",
    "\n",
    "Rearranging for $V_t(S_t)$\n",
    "\n",
    "\\begin{align}\n",
    "    V_t(S_t) &= V_{t + 1}(S_t) - \\alpha \\delta_t\n",
    "\\end{align}"
   ]
  },
  {
   "cell_type": "markdown",
   "metadata": {},
   "source": [
    "Following through with the proof similar to the steps in (6.6):\n",
    "\n",
    "\\begin{align}\n",
    "    G_t - V_t(S_t) &\\doteq R_{t + 1} + \\gamma G_{t + 1} - V_t(S_t) \\\\\n",
    "                   &=      R_{t + 1} + \\gamma V_t(S_{t + 1}) - V_t(S_t) + \\gamma G_{t + 1} - \\gamma V_t(S_{t + 1}) \\\\\n",
    "                   &= \\delta_t + \\gamma(G_{t + 1} - V_t(S_{t + 1})) \\\\\n",
    "                   &= \\delta_t + \\gamma(G_{t + 1} - V_{t + 1}(S_{t + 1}) + \\alpha \\delta_t) \\\\\n",
    "                   &= \\delta_t + \\gamma \\alpha \\delta_t + \\gamma(G_{t + 1} - V_{t + 1}(S_{t + 1})) \\\\\n",
    "                   &= \\delta_t(1 + \\gamma \\alpha) + \\gamma(G_{t + 1} - V_{t + 1}(S_{t + 1})) \\\\\n",
    "                   &= \\delta_t(1 + \\gamma \\alpha) + \\gamma(\\delta_{t + 1}(1 + \\gamma \\alpha) + \\gamma(G_{t + 2} - V_{t + 2}(S_{t + 2}))) \\\\\n",
    "                   &= \\delta_t(1 + \\gamma \\alpha) + \\gamma(\\delta_{t + 1}(1 + \\gamma \\alpha)) + \\gamma(G_{t + 2} - V_{t + 2}(S_{t + 2})) \\\\\n",
    "                   &= (1 + \\gamma \\alpha)(\\delta_t + \\gamma\\delta_{t + 1}) + \\gamma^2(\\delta_{t + 2}(1 + \\gamma \\alpha) + \\gamma(G_{t + 3} - V_{t + 3}(S_{t + 3}))) \\\\\n",
    "                   &= (1 + \\gamma \\alpha)(\\delta_t + \\gamma\\delta_{t + 1}) + \\gamma^2\\delta_{t + 2}(1 + \\gamma \\alpha) + \\gamma^3(G_{t + 3} - V_{t + 3}(S_{t + 3})) \\\\\n",
    "                   &= (1 + \\gamma \\alpha)(\\delta_t + \\gamma\\delta_{t + 1} + \\gamma^2\\delta_{t + 2}) + \\gamma^3(G_{t + 3} - V_{t + 3}(S_{t + 3})) \\\\\n",
    "                   &= (1 + \\gamma \\alpha)\\sum_{k=t}^{T - 1}\\gamma^{k - t} \\delta_t \n",
    "\\end{align}"
   ]
  },
  {
   "cell_type": "markdown",
   "metadata": {},
   "source": [
    "Intuitively this makes sense.\n",
    "\n",
    "To see why, first note that the original equation _without_ the time subscript telescopes to produce the sum of discounted rewards equation. This is a convoluted way of getting from the RHS back to the LHS :-)\n",
    "\n",
    "\\begin{equation}\n",
    "    \\delta_t \\doteq R_{t + 1} + \\gamma V(S_{t + 1}) - V(S_t)\n",
    "\\end{equation}\n",
    "\n",
    "\n",
    "\\begin{align}\n",
    "    G_t - V(S_t) &= \\sum_{k = t}^{T - 1} \\gamma^{k - t} \\delta_k \\\\\n",
    "                 &= R_{t + 1} + \\gamma V(S_{t + 1}) - V(S_t) + \\gamma ( R_{t + 2} + \\gamma V(S_{t + 2}) - V(S_{t + 1})) + \\sum_{k = t + 2}^{T - 1} \\gamma^{k - t} \\delta_k \\\\\n",
    "                 &= R_{t + 1} + \\gamma V(S_{t + 1}) - V(S_t) + \\gamma R_{t + 2} + \\gamma^2 V(S_{t + 2}) - \\gamma  V(S_{t + 1}) + \\sum_{k = t + 2}^{T - 1} \\gamma^{k - t} \\delta_k \\\\\n",
    "                 &= R_{t + 1} + \\gamma R_{t + 2} - V(S_t) + \\gamma^2 V(S_{t + 2})+ \\sum_{k = t + 2}^{T - 1} \\gamma^{k - t} \\delta_k \\\\\n",
    "                 &= \\left[\\sum_{k = t + 1}^{T} \\gamma^{k - t - 1}R_{k}\\right] - V(S_t)\n",
    "\\end{align}\n",
    "\n",
    "Now, from the above we also know:\n",
    "\n",
    "\\begin{equation}\n",
    "    V_{t + 1}(S_t) - V_t(S_t) = \\alpha \\delta_t\n",
    "\\end{equation}\n",
    "\n",
    "Distributing the summation gives:\n",
    "\n",
    "\\begin{align}\n",
    "    G_t - V_t(S_t) &= (1 + \\gamma \\alpha) \\sum_{k = t}^{T - 1} \\gamma^{k - t}\\delta_t \\\\\n",
    "                   &= \\sum_{k = t}^{T - 1} \\gamma^{k - t}\\delta_t + \\gamma \\alpha \\sum_{k = t}^{T - 1} \\gamma^{k - t}\\delta_t \\\\\n",
    "                   &= \\sum_{k = t}^{T - 1} \\gamma^{k - t}\\delta_t + \\sum_{k = t}^{T - 1} \\gamma^{k - t + 1} \\alpha \\delta_t \\\\\n",
    "                   &= \\sum_{k = t}^{T - 1} \\gamma^{k - t} \\delta_t + \\gamma^{k - t + 1} \\alpha \\delta_t\n",
    "\\end{align}\n",
    "\n",
    "It is the original sum of discounted TD errors plus another term. This other term accounts for the sum of discounted differences/deltas between the state-value estimate at step $t + 1$ and at step $t$. i.e. it is the difference, $\\alpha \\delta_k$, weighted by the discounting factor."
   ]
  },
  {
   "cell_type": "markdown",
   "metadata": {},
   "source": [
    "---\n",
    "\n",
    "Example 6.1: Driving Home (/Exercise 6.2)\n",
    "\n",
    "Consider driving home and at various points estimating the time remaining. This can be considered an RL problem where the state is the weather, your location, current time etc. The rewards are the negated time taken to get to the point on your journey home. The value function is the negated estimate of how long you think it should take to get home from the current state.\n",
    "\n",
    "Let $\\gamma = 1$ and $\\alpha = 1$. \n",
    "\n",
    "For Monte Carlo methods the error, $G_t - V(S_t)$ is the difference between the actual time taken and the estimated time remaining. This requires knowing how long the journey took in total so updates can only be done offline. It also means that changes that occur in just one state can have big impacts as to the predicted times of all other states, even if in practice they are unchanged. \n",
    "\n",
    "For methods that use temporal difference learning the error is $R_t + \\gamma V(S_{t + 1}) - V(S_t)$. The estimated return, in this case time remaining, can be updated as soon as the next state and reward are known. In the case of driving home, if you predict it will take 30 minutes to get home and it takes 5 minutes to reach the next state where you now think it will take 20 minutes, the prior estimate can be updated by $5 + 20 - 30 = -5$ minutes _without_ needing to actually reach your house.\n",
    "\n",
    "Note that this means if your next state has an accurate estimate of the time taken to reach home then you are able to quickly converge the current state's estimate to the true expected value. Consider changing jobs to one that is in a different location but after a slightly different, longer start uses the same route home. For MC Methods the error for all states will initially be increased despite it only being the few starting states that have changed and they will need to be decreased again as the starting states converge.For TD methods only these initial states will be updated. \n",
    "\n",
    "--- "
   ]
  },
  {
   "cell_type": "markdown",
   "metadata": {},
   "source": [
    "### Advantages of TD Prediction Methods\n",
    "\n",
    "**Bootstrap**: Learning to guess from a guess. TD methods update their estimates based in part on other estimates.\n",
    "\n",
    "TD Method Advantages:\n",
    "\n",
    "1. Compared to DP methods, they do not require a model of the environment (DP methods use to compute expectation over all possible next states and rewards). \n",
    "2. Compared to Monte Carlo methods, they can be implemented in an online, fully incremental fashion (Monte Carlo methods must wait until the end of the episode to get the final reward). Some applications have very long episodes where delaying all learning until the end of the episode is too slow. Other applications have no episodes at all! \n",
    "3. Compared to Monte Carlo methods, TD methods can learn from each transition regardless of what subsequent actions are taken. Some Monte Carlo methods must ignore or discount episodes on which experimental actions are taken, which can greatly slow learning (if action is non-greedy towards end of episode, importance sampling ratio is zero and therefore all updates at time before the step become zero).\n",
    "\n",
    "\n",
    "Convergence can be guaranteed for TD methods: for any fixed policy $\\pi$, $TD(0)$ has been proved to converged to $v_\\pi$. In the mean for a constant step size parameter if it is sufficiently small or with probability 1 if it decreases. \n",
    "\n",
    "\n",
    "It is an open question as to which of Monte Carlo or TD methods are more data efficient/learns faster. In practice TD methods have usually been found to converge faster than constant-$\\alpha$ MC methods on stochastic tasks."
   ]
  },
  {
   "cell_type": "markdown",
   "metadata": {},
   "source": [
    "---"
   ]
  },
  {
   "cell_type": "code",
   "execution_count": 142,
   "metadata": {},
   "outputs": [
    {
     "data": {
      "image/svg+xml": [
       "<?xml version=\"1.0\" encoding=\"UTF-8\" standalone=\"no\"?>\n",
       "<!DOCTYPE svg PUBLIC \"-//W3C//DTD SVG 1.1//EN\"\n",
       " \"http://www.w3.org/Graphics/SVG/1.1/DTD/svg11.dtd\">\n",
       "<!-- Generated by graphviz version 2.40.1 (20161225.0304)\n",
       " -->\n",
       "<!-- Title: %3 Pages: 1 -->\n",
       "<svg width=\"662pt\" height=\"44pt\"\n",
       " viewBox=\"0.00 0.00 662.00 44.00\" xmlns=\"http://www.w3.org/2000/svg\" xmlns:xlink=\"http://www.w3.org/1999/xlink\">\n",
       "<g id=\"graph0\" class=\"graph\" transform=\"scale(1 1) rotate(0) translate(4 40)\">\n",
       "<title>%3</title>\n",
       "<polygon fill=\"#ffffff\" stroke=\"transparent\" points=\"-4,4 -4,-40 658,-40 658,4 -4,4\"/>\n",
       "<!-- endL -->\n",
       "<g id=\"node1\" class=\"node\">\n",
       "<title>endL</title>\n",
       "<polygon fill=\"#d3d3d3\" stroke=\"#000000\" points=\"54,-36 0,-36 0,0 54,0 54,-36\"/>\n",
       "</g>\n",
       "<!-- A -->\n",
       "<g id=\"node2\" class=\"node\">\n",
       "<title>A</title>\n",
       "<ellipse fill=\"none\" stroke=\"#000000\" cx=\"127\" cy=\"-18\" rx=\"27\" ry=\"18\"/>\n",
       "<text text-anchor=\"middle\" x=\"127\" y=\"-14.3\" font-family=\"Times,serif\" font-size=\"14.00\" fill=\"#000000\">A</text>\n",
       "</g>\n",
       "<!-- endL&#45;&gt;A -->\n",
       "<g id=\"edge1\" class=\"edge\">\n",
       "<title>endL&#45;&gt;A</title>\n",
       "<path fill=\"none\" stroke=\"#000000\" d=\"M64.1466,-18C72.4881,-18 81.3415,-18 89.6896,-18\"/>\n",
       "<polygon fill=\"#000000\" stroke=\"#000000\" points=\"64.0615,-14.5001 54.0614,-18 64.0614,-21.5001 64.0615,-14.5001\"/>\n",
       "<polygon fill=\"#000000\" stroke=\"#000000\" points=\"89.917,-21.5001 99.9169,-18 89.9169,-14.5001 89.917,-21.5001\"/>\n",
       "<text text-anchor=\"middle\" x=\"77\" y=\"-21.8\" font-family=\"Times,serif\" font-size=\"14.00\" fill=\"#000000\">0</text>\n",
       "</g>\n",
       "<!-- B -->\n",
       "<g id=\"node3\" class=\"node\">\n",
       "<title>B</title>\n",
       "<ellipse fill=\"none\" stroke=\"#000000\" cx=\"227\" cy=\"-18\" rx=\"27\" ry=\"18\"/>\n",
       "<text text-anchor=\"middle\" x=\"227\" y=\"-14.3\" font-family=\"Times,serif\" font-size=\"14.00\" fill=\"#000000\">B</text>\n",
       "</g>\n",
       "<!-- A&#45;&gt;B -->\n",
       "<g id=\"edge2\" class=\"edge\">\n",
       "<title>A&#45;&gt;B</title>\n",
       "<path fill=\"none\" stroke=\"#000000\" d=\"M164.1466,-18C172.4881,-18 181.3415,-18 189.6896,-18\"/>\n",
       "<polygon fill=\"#000000\" stroke=\"#000000\" points=\"164.0615,-14.5001 154.0614,-18 164.0614,-21.5001 164.0615,-14.5001\"/>\n",
       "<polygon fill=\"#000000\" stroke=\"#000000\" points=\"189.917,-21.5001 199.9169,-18 189.9169,-14.5001 189.917,-21.5001\"/>\n",
       "<text text-anchor=\"middle\" x=\"177\" y=\"-21.8\" font-family=\"Times,serif\" font-size=\"14.00\" fill=\"#000000\">0</text>\n",
       "</g>\n",
       "<!-- C -->\n",
       "<g id=\"node4\" class=\"node\">\n",
       "<title>C</title>\n",
       "<ellipse fill=\"none\" stroke=\"#000000\" cx=\"327\" cy=\"-18\" rx=\"27\" ry=\"18\"/>\n",
       "<text text-anchor=\"middle\" x=\"327\" y=\"-14.3\" font-family=\"Times,serif\" font-size=\"14.00\" fill=\"#000000\">C</text>\n",
       "</g>\n",
       "<!-- B&#45;&gt;C -->\n",
       "<g id=\"edge3\" class=\"edge\">\n",
       "<title>B&#45;&gt;C</title>\n",
       "<path fill=\"none\" stroke=\"#000000\" d=\"M264.1466,-18C272.4881,-18 281.3415,-18 289.6896,-18\"/>\n",
       "<polygon fill=\"#000000\" stroke=\"#000000\" points=\"264.0615,-14.5001 254.0614,-18 264.0614,-21.5001 264.0615,-14.5001\"/>\n",
       "<polygon fill=\"#000000\" stroke=\"#000000\" points=\"289.917,-21.5001 299.9169,-18 289.9169,-14.5001 289.917,-21.5001\"/>\n",
       "<text text-anchor=\"middle\" x=\"277\" y=\"-21.8\" font-family=\"Times,serif\" font-size=\"14.00\" fill=\"#000000\">0</text>\n",
       "</g>\n",
       "<!-- D -->\n",
       "<g id=\"node5\" class=\"node\">\n",
       "<title>D</title>\n",
       "<ellipse fill=\"none\" stroke=\"#000000\" cx=\"427\" cy=\"-18\" rx=\"27\" ry=\"18\"/>\n",
       "<text text-anchor=\"middle\" x=\"427\" y=\"-14.3\" font-family=\"Times,serif\" font-size=\"14.00\" fill=\"#000000\">D</text>\n",
       "</g>\n",
       "<!-- C&#45;&gt;D -->\n",
       "<g id=\"edge4\" class=\"edge\">\n",
       "<title>C&#45;&gt;D</title>\n",
       "<path fill=\"none\" stroke=\"#000000\" d=\"M364.1466,-18C372.4881,-18 381.3415,-18 389.6896,-18\"/>\n",
       "<polygon fill=\"#000000\" stroke=\"#000000\" points=\"364.0615,-14.5001 354.0614,-18 364.0614,-21.5001 364.0615,-14.5001\"/>\n",
       "<polygon fill=\"#000000\" stroke=\"#000000\" points=\"389.917,-21.5001 399.9169,-18 389.9169,-14.5001 389.917,-21.5001\"/>\n",
       "<text text-anchor=\"middle\" x=\"377\" y=\"-21.8\" font-family=\"Times,serif\" font-size=\"14.00\" fill=\"#000000\">0</text>\n",
       "</g>\n",
       "<!-- E -->\n",
       "<g id=\"node6\" class=\"node\">\n",
       "<title>E</title>\n",
       "<ellipse fill=\"none\" stroke=\"#000000\" cx=\"527\" cy=\"-18\" rx=\"27\" ry=\"18\"/>\n",
       "<text text-anchor=\"middle\" x=\"527\" y=\"-14.3\" font-family=\"Times,serif\" font-size=\"14.00\" fill=\"#000000\">E</text>\n",
       "</g>\n",
       "<!-- D&#45;&gt;E -->\n",
       "<g id=\"edge5\" class=\"edge\">\n",
       "<title>D&#45;&gt;E</title>\n",
       "<path fill=\"none\" stroke=\"#000000\" d=\"M464.1466,-18C472.4881,-18 481.3415,-18 489.6896,-18\"/>\n",
       "<polygon fill=\"#000000\" stroke=\"#000000\" points=\"464.0615,-14.5001 454.0614,-18 464.0614,-21.5001 464.0615,-14.5001\"/>\n",
       "<polygon fill=\"#000000\" stroke=\"#000000\" points=\"489.917,-21.5001 499.9169,-18 489.9169,-14.5001 489.917,-21.5001\"/>\n",
       "<text text-anchor=\"middle\" x=\"477\" y=\"-21.8\" font-family=\"Times,serif\" font-size=\"14.00\" fill=\"#000000\">0</text>\n",
       "</g>\n",
       "<!-- endR -->\n",
       "<g id=\"node7\" class=\"node\">\n",
       "<title>endR</title>\n",
       "<polygon fill=\"#d3d3d3\" stroke=\"#000000\" points=\"654,-36 600,-36 600,0 654,0 654,-36\"/>\n",
       "</g>\n",
       "<!-- E&#45;&gt;endR -->\n",
       "<g id=\"edge6\" class=\"edge\">\n",
       "<title>E&#45;&gt;endR</title>\n",
       "<path fill=\"none\" stroke=\"#000000\" d=\"M564.1466,-18C572.4881,-18 581.3415,-18 589.6896,-18\"/>\n",
       "<polygon fill=\"#000000\" stroke=\"#000000\" points=\"564.0615,-14.5001 554.0614,-18 564.0614,-21.5001 564.0615,-14.5001\"/>\n",
       "<polygon fill=\"#000000\" stroke=\"#000000\" points=\"589.917,-21.5001 599.9169,-18 589.9169,-14.5001 589.917,-21.5001\"/>\n",
       "<text text-anchor=\"middle\" x=\"577\" y=\"-21.8\" font-family=\"Times,serif\" font-size=\"14.00\" fill=\"#000000\">1</text>\n",
       "</g>\n",
       "</g>\n",
       "</svg>\n"
      ],
      "text/plain": [
       "<graphviz.dot.Digraph at 0x7f13859a5c10>"
      ]
     },
     "execution_count": 142,
     "metadata": {},
     "output_type": "execute_result"
    }
   ],
   "source": [
    "# Example 6.2: Random Walk\n",
    "\n",
    "# A Markov reward process (MRP) is a MDP without actions.\n",
    "#\n",
    "# MRPs are often useful when focusing on the prediction problem is which there is no need\n",
    "# to distinguish between the dynamics due to the environment and those due to the agent.\n",
    "# (i.e. the state->action, action->next state probabilities collapse to state->next state)\n",
    "#\n",
    "# Consider the MRP:\n",
    "\n",
    "g = graphviz.Digraph(graph_attr={\"rankdir\": \"LR\"})\n",
    "\n",
    "nodes = [\n",
    "    \"endL\", \"A\", \"B\", \"C\", \"D\", \"E\", \"endR\"\n",
    "]\n",
    "for n in nodes:\n",
    "    end = \"end\" in n\n",
    "    g.node(\n",
    "        n,\n",
    "        label=None if not end else \"\",\n",
    "        shape=\"box\" if end else None,\n",
    "        style=\"filled\" if end else None,\n",
    "    )\n",
    "    \n",
    "for l, r in zip(nodes, nodes[1:]):\n",
    "    g.edge(\n",
    "        l, r,\n",
    "        dir=\"both\", \n",
    "        label=\"0\" if r != \"endR\" else \"1\"\n",
    "    )\n",
    "    \n",
    "g"
   ]
  },
  {
   "cell_type": "code",
   "execution_count": null,
   "metadata": {},
   "outputs": [],
   "source": [
    "# The starting state is always C and it proceeds left or right both with probability 0.5 until\n",
    "# either end state is reaching. The reward is always 0 except when the episode terminates on\n",
    "# the right where it is +1. "
   ]
  },
  {
   "cell_type": "code",
   "execution_count": 145,
   "metadata": {},
   "outputs": [],
   "source": [
    "class RandWalkAction(enum.Enum):\n",
    "    LEFT = enum.auto()\n",
    "    RIGHT = enum.auto()"
   ]
  },
  {
   "cell_type": "code",
   "execution_count": 162,
   "metadata": {},
   "outputs": [],
   "source": [
    "TERMINAL = \".\"\n",
    "rnd_walk_state_idxs = {\n",
    "    s: i for i, s in enumerate([TERMINAL] + list(\"ABCDE\"))\n",
    "}\n",
    "rnd_walk_states = list(rnd_walk_state_idxs.values())\n",
    "\n",
    "rnd_walk_policy = {\n",
    "    k: {a: 0.5 for a in RandWalkAction}\n",
    "    for k in rnd_walk_states\n",
    "}\n",
    "\n",
    "rnd_init_state = lambda: rnd_walk_state_idxs[\"C\"]\n",
    "\n",
    "rnd_is_terminal = {\n",
    "    s: s == rnd_walk_state_idxs[TERMINAL] \n",
    "    for s in rnd_walk_states\n",
    "}\n",
    "\n",
    "def rnd_simulate(state, action):\n",
    "    if state == rnd_walk_state_idxs[TERMINAL]:\n",
    "        return rnd_walk_state_idxs[TERMINAL], 0\n",
    "    \n",
    "    if action == RandWalkAction.LEFT:\n",
    "        return state - 1, 0\n",
    "    \n",
    "    if state == rnd_walk_state_idxs[\"E\"] and action == RandWalkAction.RIGHT:\n",
    "        return rnd_walk_state_idxs[TERMINAL], 1\n",
    "    \n",
    "    return state + 1, 0"
   ]
  },
  {
   "cell_type": "code",
   "execution_count": 202,
   "metadata": {},
   "outputs": [],
   "source": [
    "def run_rnd_td0(n_episode):\n",
    "    return tabular_td0(\n",
    "        policy=rnd_walk_policy,\n",
    "        init_state=rnd_init_state,\n",
    "        is_terminal=rnd_is_terminal,\n",
    "        simulate=rnd_simulate,\n",
    "        n_episode=n_episode,\n",
    "        alpha=0.1,\n",
    "        gamma=1.0,\n",
    "        init_fn=lambda s: 0.0 if s == rnd_walk_state_idxs[TERMINAL] else 0.5\n",
    "    )"
   ]
  },
  {
   "cell_type": "code",
   "execution_count": 219,
   "metadata": {},
   "outputs": [
    {
     "name": "stderr",
     "output_type": "stream",
     "text": [
      "0it [00:00, ?it/s]\n",
      "100%|██████████| 1/1 [00:00<00:00, 3603.35it/s]\n",
      "100%|██████████| 10/10 [00:00<00:00, 18363.85it/s]\n",
      "100%|██████████| 100/100 [00:00<00:00, 45353.63it/s]\n"
     ]
    },
    {
     "data": {
      "image/png": "[encoded data removed]",
      "text/plain": [
       "<Figure size 432x288 with 1 Axes>"
      ]
     },
     "metadata": {},
     "output_type": "display_data"
    }
   ],
   "source": [
    "plt.style.use(\"ggplot\")\n",
    "\n",
    "to_plot = copy.deepcopy(rnd_walk_states)\n",
    "to_plot.remove(rnd_walk_state_idxs[TERMINAL])\n",
    "\n",
    "for n_episode in [0, 1, 10, 100]:\n",
    "    state_values = run_rnd_td0(n_episode)\n",
    "    plt.plot(\n",
    "        to_plot, \n",
    "        [state_values[s] for s in to_plot],\n",
    "        label=f\"{n_episode}\",\n",
    "    )\n",
    "    \n",
    "plt.ylim(0, 1)\n",
    "plt.legend()\n",
    "plt.show()"
   ]
  },
  {
   "cell_type": "code",
   "execution_count": null,
   "metadata": {},
   "outputs": [],
   "source": []
  }
 ],
 "metadata": {
  "kernelspec": {
   "display_name": "Python 3",
   "language": "python",
   "name": "python3"
  },
  "language_info": {
   "codemirror_mode": {
    "name": "ipython",
    "version": 3
   },
   "file_extension": ".py",
   "mimetype": "text/x-python",
   "name": "python",
   "nbconvert_exporter": "python",
   "pygments_lexer": "ipython3",
   "version": "3.7.7"
  }
 },
 "nbformat": 4,
 "nbformat_minor": 4
}
